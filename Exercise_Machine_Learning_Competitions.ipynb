{
  "metadata": {
    "kernelspec": {
      "language": "python",
      "display_name": "Python 3",
      "name": "python3"
    },
    "language_info": {
      "pygments_lexer": "ipython3",
      "nbconvert_exporter": "python",
      "version": "3.6.4",
      "file_extension": ".py",
      "codemirror_mode": {
        "name": "ipython",
        "version": 3
      },
      "name": "python",
      "mimetype": "text/x-python"
    },
    "colab": {
      "name": "Exercise: Machine Learning Competitions",
      "provenance": [],
      "include_colab_link": true
    }
  },
  "nbformat_minor": 0,
  "nbformat": 4,
  "cells": [
    {
      "cell_type": "markdown",
      "metadata": {
        "id": "view-in-github",
        "colab_type": "text"
      },
      "source": [
        "<a href=\"https://colab.research.google.com/github/macodebcn/datascience_samples/blob/main/Exercise_Machine_Learning_Competitions.ipynb\" target=\"_parent\"><img src=\"https://colab.research.google.com/assets/colab-badge.svg\" alt=\"Open In Colab\"/></a>"
      ]
    },
    {
      "source": [
        "\n",
        "# IMPORTANT: RUN THIS CELL IN ORDER TO IMPORT YOUR KAGGLE DATA SOURCES\n",
        "# TO THE CORRECT LOCATION (/kaggle/input) IN YOUR NOTEBOOK,\n",
        "# THEN FEEL FREE TO DELETE THIS CELL.\n",
        "# NOTE: THIS NOTEBOOK ENVIRONMENT DIFFERS FROM KAGGLE'S PYTHON\n",
        "# ENVIRONMENT SO THERE MAY BE MISSING LIBRARIES USED BY YOUR\n",
        "# NOTEBOOK.\n",
        "\n",
        "import os\n",
        "import sys\n",
        "from tempfile import NamedTemporaryFile\n",
        "from urllib.request import urlopen\n",
        "from urllib.parse import unquote, urlparse\n",
        "from urllib.error import HTTPError\n",
        "from zipfile import ZipFile\n",
        "import tarfile\n",
        "import shutil\n",
        "\n",
        "CHUNK_SIZE = 40960\n",
        "DATA_SOURCE_MAPPING = ':https%3A%2F%2Fstorage.googleapis.com%2Fkaggle-competitions-data%2Fkaggle-v2%2F10211%2F111096%2Fbundle%2Farchive.zip%3FX-Goog-Algorithm%3DGOOG4-RSA-SHA256%26X-Goog-Credential%3Dgcp-kaggle-com%2540kaggle-161607.iam.gserviceaccount.com%252F20240210%252Fauto%252Fstorage%252Fgoog4_request%26X-Goog-Date%3D20240210T122257Z%26X-Goog-Expires%3D259200%26X-Goog-SignedHeaders%3Dhost%26X-Goog-Signature%3D438a4cd4be1ed06d5db48236f0efcc079ee43e2a52097545a797c9a4e2bd4332f920738cb21638c4d93b82336d3fe1ef3a21be2cd1199803d39f6dfdacd4dd09200e4fd4d2ea27dc8d1294f111426ace20f07add903fa9b1074a678cff8dd458bc2d723eb7a0b4aba9998574d42b1171cb26b2d6e6d41bff1137135acc9889e238c62e4b2562d2d54af50c0efce8506963f66b480979ed204afebde2a3bef6a4c241b735c80babf591f3d2f380938dca29261ea3c69de2e45bcc6836a32217846ce128bcfef8fb033a2129bfaf7eb19dd316f192af2238dca16ce88895ed0f7e9ca17fa1ef6607ed5a4fb52686f215975571beaa8eda6b999de15d62c94e64c5'\n",
        "\n",
        "KAGGLE_INPUT_PATH='/kaggle/input'\n",
        "KAGGLE_WORKING_PATH='/kaggle/working'\n",
        "KAGGLE_SYMLINK='kaggle'\n",
        "\n",
        "!umount /kaggle/input/ 2> /dev/null\n",
        "shutil.rmtree('/kaggle/input', ignore_errors=True)\n",
        "os.makedirs(KAGGLE_INPUT_PATH, 0o777, exist_ok=True)\n",
        "os.makedirs(KAGGLE_WORKING_PATH, 0o777, exist_ok=True)\n",
        "\n",
        "try:\n",
        "  os.symlink(KAGGLE_INPUT_PATH, os.path.join(\"..\", 'input'), target_is_directory=True)\n",
        "except FileExistsError:\n",
        "  pass\n",
        "try:\n",
        "  os.symlink(KAGGLE_WORKING_PATH, os.path.join(\"..\", 'working'), target_is_directory=True)\n",
        "except FileExistsError:\n",
        "  pass\n",
        "\n",
        "for data_source_mapping in DATA_SOURCE_MAPPING.split(','):\n",
        "    directory, download_url_encoded = data_source_mapping.split(':')\n",
        "    download_url = unquote(download_url_encoded)\n",
        "    filename = urlparse(download_url).path\n",
        "    destination_path = os.path.join(KAGGLE_INPUT_PATH, directory)\n",
        "    try:\n",
        "        with urlopen(download_url) as fileres, NamedTemporaryFile() as tfile:\n",
        "            total_length = fileres.headers['content-length']\n",
        "            print(f'Downloading {directory}, {total_length} bytes compressed')\n",
        "            dl = 0\n",
        "            data = fileres.read(CHUNK_SIZE)\n",
        "            while len(data) > 0:\n",
        "                dl += len(data)\n",
        "                tfile.write(data)\n",
        "                done = int(50 * dl / int(total_length))\n",
        "                sys.stdout.write(f\"\\r[{'=' * done}{' ' * (50-done)}] {dl} bytes downloaded\")\n",
        "                sys.stdout.flush()\n",
        "                data = fileres.read(CHUNK_SIZE)\n",
        "            if filename.endswith('.zip'):\n",
        "              with ZipFile(tfile) as zfile:\n",
        "                zfile.extractall(destination_path)\n",
        "            else:\n",
        "              with tarfile.open(tfile.name) as tarfile:\n",
        "                tarfile.extractall(destination_path)\n",
        "            print(f'\\nDownloaded and uncompressed: {directory}')\n",
        "    except HTTPError as e:\n",
        "        print(f'Failed to load (likely expired) {download_url} to path {destination_path}')\n",
        "        continue\n",
        "    except OSError as e:\n",
        "        print(f'Failed to load {download_url} to path {destination_path}')\n",
        "        continue\n",
        "\n",
        "print('Data source import complete.')\n"
      ],
      "metadata": {
        "id": "ngydJZrf-I-I"
      },
      "cell_type": "code",
      "outputs": [],
      "execution_count": null
    },
    {
      "cell_type": "markdown",
      "source": [
        "**This notebook is an exercise in the [Introduction to Machine Learning](https://www.kaggle.com/learn/intro-to-machine-learning) course.  You can reference the tutorial at [this link](https://www.kaggle.com/alexisbcook/machine-learning-competitions).**\n",
        "\n",
        "---\n"
      ],
      "metadata": {
        "id": "DWUQlkmN-I-M"
      }
    },
    {
      "cell_type": "markdown",
      "source": [
        "# Introduction\n",
        "\n",
        "In this exercise, you will create and submit predictions for a Kaggle competition. You can then improve your model (e.g. by adding features) to apply what you've learned and move up the leaderboard.\n",
        "\n",
        "Begin by running the code cell below to set up code checking and the filepaths for the dataset."
      ],
      "metadata": {
        "id": "fKyJITRT-I-N"
      }
    },
    {
      "cell_type": "code",
      "source": [
        "# Set up code checking\n",
        "from learntools.core import binder\n",
        "binder.bind(globals())\n",
        "from learntools.machine_learning.ex7 import *\n",
        "\n",
        "# Set up filepaths\n",
        "import os\n",
        "if not os.path.exists(\"../input/train.csv\"):\n",
        "    os.symlink(\"../input/home-data-for-ml-course/train.csv\", \"../input/train.csv\")\n",
        "    os.symlink(\"../input/home-data-for-ml-course/test.csv\", \"../input/test.csv\")"
      ],
      "metadata": {
        "execution": {
          "iopub.status.busy": "2023-09-29T21:55:20.949415Z",
          "iopub.execute_input": "2023-09-29T21:55:20.949784Z",
          "iopub.status.idle": "2023-09-29T21:55:20.957284Z",
          "shell.execute_reply.started": "2023-09-29T21:55:20.949754Z",
          "shell.execute_reply": "2023-09-29T21:55:20.955995Z"
        },
        "trusted": true,
        "id": "We1m-HAO-I-O"
      },
      "execution_count": null,
      "outputs": []
    },
    {
      "cell_type": "markdown",
      "source": [
        "Here's some of the code you've written so far. Start by running it again."
      ],
      "metadata": {
        "id": "aCVMr4Eq-I-P"
      }
    },
    {
      "cell_type": "code",
      "source": [
        "# Import helpful libraries\n",
        "import pandas as pd\n",
        "from sklearn.ensemble import RandomForestRegressor\n",
        "from sklearn.metrics import mean_absolute_error\n",
        "from sklearn.model_selection import train_test_split\n",
        "\n",
        "# Load the data, and separate the target\n",
        "iowa_file_path = '../input/train.csv'\n",
        "home_data = pd.read_csv(iowa_file_path)\n",
        "y = home_data.SalePrice\n",
        "\n",
        "# Create X (After completing the exercise, you can return to modify this line!)\n",
        "features = ['LotArea', 'YearBuilt', '1stFlrSF', '2ndFlrSF', 'FullBath', 'BedroomAbvGr', 'TotRmsAbvGrd']\n",
        "\n",
        "# Select columns corresponding to features, and preview the data\n",
        "X = home_data[features]\n",
        "X.head()\n",
        "\n",
        "# Split into validation and training data\n",
        "train_X, val_X, train_y, val_y = train_test_split(X, y, random_state=1)\n",
        "\n",
        "# Define a random forest model\n",
        "rf_model = RandomForestRegressor(random_state=1)\n",
        "rf_model.fit(train_X, train_y)\n",
        "rf_val_predictions = rf_model.predict(val_X)\n",
        "rf_val_mae = mean_absolute_error(rf_val_predictions, val_y)\n",
        "\n",
        "print(\"Validation MAE for Random Forest Model: {:,.0f}\".format(rf_val_mae))"
      ],
      "metadata": {
        "execution": {
          "iopub.status.busy": "2023-09-29T21:55:20.959495Z",
          "iopub.execute_input": "2023-09-29T21:55:20.959985Z",
          "iopub.status.idle": "2023-09-29T21:55:21.494997Z",
          "shell.execute_reply.started": "2023-09-29T21:55:20.959941Z",
          "shell.execute_reply": "2023-09-29T21:55:21.494068Z"
        },
        "trusted": true,
        "id": "XcHmmiVu-I-P"
      },
      "execution_count": null,
      "outputs": []
    },
    {
      "cell_type": "markdown",
      "source": [
        "# Train a model for the competition\n",
        "\n",
        "The code cell above trains a Random Forest model on **`train_X`** and **`train_y`**.  \n",
        "\n",
        "Use the code cell below to build a Random Forest model and train it on all of **`X`** and **`y`**."
      ],
      "metadata": {
        "id": "CBB_Us_0-I-Q"
      }
    },
    {
      "cell_type": "code",
      "source": [
        "# To improve accuracy, create a new Random Forest model which you will train on all training data\n",
        "rf_model_on_full_data = RandomForestRegressor()\n",
        "\n",
        "# fit rf_model_on_full_data on all data from the training data\n",
        "rf_model.fit(train_X, train_y)"
      ],
      "metadata": {
        "execution": {
          "iopub.status.busy": "2023-09-29T21:55:21.496675Z",
          "iopub.execute_input": "2023-09-29T21:55:21.497271Z",
          "iopub.status.idle": "2023-09-29T21:55:21.980831Z",
          "shell.execute_reply.started": "2023-09-29T21:55:21.497238Z",
          "shell.execute_reply": "2023-09-29T21:55:21.979997Z"
        },
        "trusted": true,
        "id": "YO3EQkWO-I-Q"
      },
      "execution_count": null,
      "outputs": []
    },
    {
      "cell_type": "markdown",
      "source": [
        "Now, read the file of \"test\" data, and apply your model to make predictions."
      ],
      "metadata": {
        "id": "B9AiXUQx-I-R"
      }
    },
    {
      "cell_type": "code",
      "source": [
        "# Now, read the file of \"test\" data, and apply your model to make predictions.\n",
        "test_data_path = '../input/test.csv'\n",
        "test_data = pd.read_csv(test_data_path)\n",
        "\n",
        "# Create test_X which comes from test_data but includes only the columns you used for prediction.\n",
        "test_X = test_data[features]\n",
        "\n",
        "# Make predictions\n",
        "test_preds = rf_model.predict(test_X)"
      ],
      "metadata": {
        "execution": {
          "iopub.status.busy": "2023-09-29T21:55:21.983411Z",
          "iopub.execute_input": "2023-09-29T21:55:21.984129Z",
          "iopub.status.idle": "2023-09-29T21:55:22.042828Z",
          "shell.execute_reply.started": "2023-09-29T21:55:21.984087Z",
          "shell.execute_reply": "2023-09-29T21:55:22.041437Z"
        },
        "trusted": true,
        "id": "hPBwJDgB-I-R"
      },
      "execution_count": null,
      "outputs": []
    },
    {
      "cell_type": "markdown",
      "source": [
        "Before submitting, run a check to make sure your `test_preds` have the right format."
      ],
      "metadata": {
        "id": "FcFjXnd_-I-R"
      }
    },
    {
      "cell_type": "code",
      "source": [
        "# Check your answer (To get credit for completing the exercise, you must get a \"Correct\" result!)\n",
        "step_1.check()\n",
        "# step_1.solution()"
      ],
      "metadata": {
        "execution": {
          "iopub.status.busy": "2023-09-29T21:55:22.044332Z",
          "iopub.execute_input": "2023-09-29T21:55:22.044826Z",
          "iopub.status.idle": "2023-09-29T21:55:22.053987Z",
          "shell.execute_reply.started": "2023-09-29T21:55:22.044781Z",
          "shell.execute_reply": "2023-09-29T21:55:22.052903Z"
        },
        "trusted": true,
        "id": "Ll_4U9PA-I-R"
      },
      "execution_count": null,
      "outputs": []
    },
    {
      "cell_type": "markdown",
      "source": [
        "# Generate a submission\n",
        "\n",
        "Run the code cell below to generate a CSV file with your predictions that you can use to submit to the competition."
      ],
      "metadata": {
        "id": "wv2m3nty-I-S"
      }
    },
    {
      "cell_type": "code",
      "source": [
        "# Run the code to save predictions in the format used for competition scoring\n",
        "\n",
        "output = pd.DataFrame({'Id': test_data.Id,\n",
        "                       'SalePrice': test_preds})\n",
        "output.to_csv('submission.csv', index=False)"
      ],
      "metadata": {
        "execution": {
          "iopub.status.busy": "2023-09-29T21:55:22.055533Z",
          "iopub.execute_input": "2023-09-29T21:55:22.055915Z",
          "iopub.status.idle": "2023-09-29T21:55:22.070454Z",
          "shell.execute_reply.started": "2023-09-29T21:55:22.055886Z",
          "shell.execute_reply": "2023-09-29T21:55:22.069266Z"
        },
        "trusted": true,
        "id": "1wJzKChy-I-S"
      },
      "execution_count": null,
      "outputs": []
    },
    {
      "cell_type": "markdown",
      "source": [
        "# Submit to the competition\n",
        "\n",
        "To test your results, you'll need to join the competition (if you haven't already).  So open a new window by clicking on **[this link](https://www.kaggle.com/c/home-data-for-ml-course)**.  Then click on the **Join Competition** button.\n",
        "\n",
        "![join competition image](https://storage.googleapis.com/kaggle-media/learn/images/axBzctl.png)\n",
        "\n",
        "Next, follow the instructions below:\n",
        "1. Begin by clicking on the **Save Version** button in the top right corner of the window.  This will generate a pop-up window.  \n",
        "2. Ensure that the **Save and Run All** option is selected, and then click on the **Save** button.\n",
        "3. This generates a window in the bottom left corner of the notebook.  After it has finished running, click on the number to the right of the **Save Version** button.  This pulls up a list of versions on the right of the screen.  Click on the ellipsis **(...)** to the right of the most recent version, and select **Open in Viewer**.  This brings you into view mode of the same page. You will need to scroll down to get back to these instructions.\n",
        "4. Click on the **Data** tab near the top of the screen.  Then, click on the file you would like to submit, and click on the **Submit** button to submit your results to the leaderboard.\n",
        "\n",
        "You have now successfully submitted to the competition!\n",
        "\n",
        "If you want to keep working to improve your performance, select the **Edit** button in the top right of the screen. Then you can change your code and repeat the process. There's a lot of room to improve, and you will climb up the leaderboard as you work.\n",
        "\n",
        "\n",
        "# Continue Your Progress\n",
        "There are many ways to improve your model, and **experimenting is a great way to learn at this point.**\n",
        "\n",
        "The best way to improve your model is to add features.  To add more features to the data, revisit the first code cell, and change this line of code to include more column names:\n",
        "```python\n",
        "features = ['LotArea', 'YearBuilt', '1stFlrSF', '2ndFlrSF', 'FullBath', 'BedroomAbvGr', 'TotRmsAbvGrd']\n",
        "```\n",
        "\n",
        "Some features will cause errors because of issues like missing values or non-numeric data types.  Here is a complete list of potential columns that you might like to use, and that won't throw errors:\n",
        "- 'MSSubClass'\n",
        "- 'LotArea'\n",
        "- 'OverallQual'\n",
        "- 'OverallCond'\n",
        "- 'YearBuilt'\n",
        "- 'YearRemodAdd'\n",
        "- '1stFlrSF'\n",
        "- '2ndFlrSF'\n",
        "- 'LowQualFinSF'\n",
        "- 'GrLivArea'\n",
        "- 'FullBath'\n",
        "- 'HalfBath'\n",
        "- 'BedroomAbvGr'\n",
        "- 'KitchenAbvGr'\n",
        "- 'TotRmsAbvGrd'\n",
        "- 'Fireplaces'\n",
        "- 'WoodDeckSF'\n",
        "- 'OpenPorchSF'\n",
        "- 'EnclosedPorch'\n",
        "- '3SsnPorch'\n",
        "- 'ScreenPorch'\n",
        "- 'PoolArea'\n",
        "- 'MiscVal'\n",
        "- 'MoSold'\n",
        "- 'YrSold'\n",
        "\n",
        "Look at the list of columns and think about what might affect home prices.  To learn more about each of these features, take a look at the data description on the **[competition page](https://www.kaggle.com/c/home-data-for-ml-course/data)**.\n",
        "\n",
        "After updating the code cell above that defines the features, re-run all of the code cells to evaluate the model and generate a new submission file.  \n",
        "\n",
        "\n",
        "# What's next?\n",
        "\n",
        "As mentioned above, some of the features will throw an error if you try to use them to train your model.  The **[Intermediate Machine Learning](https://www.kaggle.com/learn/intermediate-machine-learning)** course will teach you how to handle these types of features. You will also learn to use **xgboost**, a technique giving even better accuracy than Random Forest.\n",
        "\n",
        "The **[Pandas](https://kaggle.com/Learn/Pandas)** course will give you the data manipulation skills to quickly go from conceptual idea to implementation in your data science projects.\n",
        "\n",
        "You are also ready for the **[Deep Learning](https://kaggle.com/Learn/intro-to-Deep-Learning)** course, where you will build models with better-than-human level performance at computer vision tasks."
      ],
      "metadata": {
        "id": "lroVzkzh-I-S"
      }
    },
    {
      "cell_type": "markdown",
      "source": [
        "---\n",
        "\n",
        "\n",
        "\n",
        "\n",
        "*Have questions or comments? Visit the [course discussion forum](https://www.kaggle.com/learn/intro-to-machine-learning/discussion) to chat with other learners.*"
      ],
      "metadata": {
        "id": "dGeJ-GJG-I-T"
      }
    }
  ]
}