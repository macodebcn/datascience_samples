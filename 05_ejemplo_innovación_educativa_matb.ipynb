{
  "nbformat": 4,
  "nbformat_minor": 0,
  "metadata": {
    "colab": {
      "provenance": [],
      "authorship_tag": "ABX9TyNmoxfrOmUokaSRZtP7m2Gr",
      "include_colab_link": true
    },
    "kernelspec": {
      "name": "python3",
      "display_name": "Python 3"
    },
    "language_info": {
      "name": "python"
    }
  },
  "cells": [
    {
      "cell_type": "markdown",
      "metadata": {
        "id": "view-in-github",
        "colab_type": "text"
      },
      "source": [
        "<a href=\"https://colab.research.google.com/github/macodebcn/datascience_samples/blob/main/ejemplo_innovaci%C3%B3n_educativa_matb.ipynb\" target=\"_parent\"><img src=\"https://colab.research.google.com/assets/colab-badge.svg\" alt=\"Open In Colab\"/></a>"
      ]
    },
    {
      "cell_type": "markdown",
      "source": [
        "Estos datos NO SON REALES, se trata de un test.\n",
        "\n",
        "¿Qué significa esto?\n",
        "\n",
        "Variable independiente X: Es la variable que se utiliza para predecir el valor de otra variable. En este caso, X (las notas del año anterior) se utiliza para predecir el valor de y (las notas del año actual o del año siguiente). En el ejemplo <y> en realidad es una feature más...\n",
        "Variable predictora: Es la variable que se utiliza como entrada para el modelo de predicción. El modelo utiliza el valor de x para calcular el valor predicho de y.\n",
        "\n",
        "x: Lo que ya sabes y usas para predecir.\n",
        "y: Lo que quieres predecir.\n"
      ],
      "metadata": {
        "id": "DnrQOdjtk_6h"
      }
    },
    {
      "cell_type": "code",
      "execution_count": null,
      "metadata": {
        "colab": {
          "base_uri": "https://localhost:8080/"
        },
        "id": "fmfXQ0aTe1Q1",
        "outputId": "65dd8be6-1ce4-4525-e76c-b95c257438e1"
      },
      "outputs": [
        {
          "output_type": "stream",
          "name": "stdout",
          "text": [
            "Estudiante 1: 7.260683760683761\n",
            "Estudiante 2: 7.1923076923076925\n",
            "Estudiante 3: 7.294871794871795\n",
            "Estudiante 4: 7.226495726495727\n",
            "Estudiante 5: 7.363247863247864\n",
            "Estudiante 6: 7.1581196581196584\n"
          ]
        }
      ],
      "source": [
        "# ejemplo creado para entrenar datos de clase\n",
        "import numpy as np\n",
        "from sklearn.linear_model import LinearRegression\n",
        "\n",
        "# X serían las notas que tenemos de clase del año pasado...\n",
        "# es la variable dependiente (predictora), aunque en este ejemplo sencillo\n",
        "# es más bien una feature más\n",
        "x = [7, 9, 8, 5, 7, 6, 6, 7, 7, 6, 6, 5, 7, 7, 8, 6, 7, 8, 6, 9, 7, 9, 6, 8, 6, 5, 5, 7, 9, 5]\n",
        "\n",
        "# <y> serían las notas de hace dos años...podríamos hacer varias cosas aquí,\n",
        "# pero básicamente es otra feature porque no tenemos más columnas, por ejemplo\n",
        "# faltó a clase, horas de estudio o cualquier otro dato disponible por parte\n",
        "# del docente\n",
        "y = [7, 9, 8, 9, 6, 9, 5, 5, 8, 7, 7, 7, 9, 9, 6, 9, 9, 7, 7, 7, 5, 6, 7, 8, 5, 5, 8, 9, 6, 8]\n",
        "\n",
        "modelo = LinearRegression()\n",
        "modelo.fit(np.array(x).reshape(-1, 1), np.array(y))\n",
        "\n",
        "# estas son las notas del año anterior con las que quiero predecir\n",
        "# en concreto, selecciono la de tres alumnos/as\n",
        "# estas notas forman parte del modelo, pero pueden utilizarse porque el modelo\n",
        "# sólo las ha utilizado para que podamos hacer predicciones\n",
        "notas_predicción = [[6], [8], [5]]\n",
        "predicciones = modelo.predict(notas_predicción)\n",
        "\n",
        "for i, prediccion in enumerate(predicciones):\n",
        "    print(f\"Estudiante {i+1}: {prediccion}\") # ponemos +1 para que no imprima estudiante 0\n",
        "\n",
        "notas_nuevas = [[7], [3], [9]]\n",
        "predicciones_nuevas = modelo.predict(notas_nuevas)\n",
        "\n",
        "for i, prediccion in enumerate(predicciones_nuevas):\n",
        "    print(f\"Estudiante {i+4}: {prediccion}\")"
      ]
    },
    {
      "cell_type": "code",
      "source": [
        "# modificando el orden de las variables, ahora x es y y viceversa...\n",
        "# esto tiene más sentido porque las notas anteriores influyen en las siguientes,\n",
        "# seguimos el \"flow\" temporal...\n",
        "\n",
        "import numpy as np\n",
        "from sklearn.linear_model import LinearRegression\n",
        "\n",
        "# Notas de hace dos años (feature) - this is now our 'x'\n",
        "notas_hace_dos_años = [7, 9, 8, 9, 6, 9, 5, 5, 8, 7, 7, 7, 9, 9, 6, 9, 9, 7, 7, 7, 5, 6, 7, 8, 5, 5, 8, 9, 6, 8]\n",
        "\n",
        "# Notas del año pasado (feature) - this is now our 'y'\n",
        "notas_año_pasado = [7, 9, 8, 5, 7, 6, 6, 7, 7, 6, 6, 5, 7, 7, 8, 6, 7, 8, 6, 9, 7, 9, 6, 8, 6, 5, 5, 7, 9, 5]\n",
        "\n",
        "# Create and train the model\n",
        "modelo = LinearRegression()\n",
        "modelo.fit(np.array(notas_hace_dos_años).reshape(-1, 1), np.array(notas_año_pasado))\n",
        "\n",
        "# Predict grades for all students\n",
        "predicciones = modelo.predict(np.array(notas_hace_dos_años).reshape(-1, 1))\n",
        "\n",
        "# Print predictions for each student\n",
        "for i, prediccion in enumerate(predicciones):\n",
        "    print(f\"Estudiante {i+1}: {prediccion}\")"
      ],
      "metadata": {
        "colab": {
          "base_uri": "https://localhost:8080/"
        },
        "id": "zm2RRXtCCS55",
        "outputId": "fdd72110-1d5a-4f0f-af37-aff532766d8d"
      },
      "execution_count": null,
      "outputs": [
        {
          "output_type": "stream",
          "name": "stdout",
          "text": [
            "Estudiante 1: 6.806288601909039\n",
            "Estudiante 2: 6.752386299831556\n",
            "Estudiante 3: 6.7793374508702975\n",
            "Estudiante 4: 6.752386299831556\n",
            "Estudiante 5: 6.833239752947782\n",
            "Estudiante 6: 6.752386299831556\n",
            "Estudiante 7: 6.860190903986524\n",
            "Estudiante 8: 6.860190903986524\n",
            "Estudiante 9: 6.7793374508702975\n",
            "Estudiante 10: 6.806288601909039\n",
            "Estudiante 11: 6.806288601909039\n",
            "Estudiante 12: 6.806288601909039\n",
            "Estudiante 13: 6.752386299831556\n",
            "Estudiante 14: 6.752386299831556\n",
            "Estudiante 15: 6.833239752947782\n",
            "Estudiante 16: 6.752386299831556\n",
            "Estudiante 17: 6.752386299831556\n",
            "Estudiante 18: 6.806288601909039\n",
            "Estudiante 19: 6.806288601909039\n",
            "Estudiante 20: 6.806288601909039\n",
            "Estudiante 21: 6.860190903986524\n",
            "Estudiante 22: 6.833239752947782\n",
            "Estudiante 23: 6.806288601909039\n",
            "Estudiante 24: 6.7793374508702975\n",
            "Estudiante 25: 6.860190903986524\n",
            "Estudiante 26: 6.860190903986524\n",
            "Estudiante 27: 6.7793374508702975\n",
            "Estudiante 28: 6.752386299831556\n",
            "Estudiante 29: 6.833239752947782\n",
            "Estudiante 30: 6.7793374508702975\n"
          ]
        }
      ]
    },
    {
      "cell_type": "code",
      "source": [
        "import numpy as np\n",
        "from sklearn.linear_model import LinearRegression\n",
        "\n",
        "# X serían las notas que tenemos de clase del año pasado...\n",
        "# es la variable dependiente (predictora) de este año o del siguiente\n",
        "x1 = [7, 9, 8, 5, 7, 6, 6, 7, 7, 6, 6, 5, 7, 7, 8, 6, 7, 8, 6, 9, 7, 9, 6, 8, 6, 5, 5, 7, 9, 5]\n",
        "\n",
        "# <y> serían las notas de hace dos años\n",
        "# se utilizan como otra feature en realidad para predecir las notas\n",
        "y1 = [7, 9, 8, 9, 3, 9, 5, 5, 8, 7, 7, 7, 9, 9, 6, 9, 9, 2, 7, 4, 5, 4, 7, 8, 5, 5, 8, 9, 6, 8]\n",
        "\n",
        "modelo = LinearRegression()\n",
        "modelo.fit(np.array(x).reshape(-1, 1), np.array(y))\n",
        "\n",
        "# Predecir las notas para todos los estudiantes a la vez\n",
        "notas_prediccion = np.array(x1).reshape(-1, 1)  # Usamos las notas del año pasado (x)\n",
        "predicciones = modelo.predict(notas_prediccion)\n",
        "\n",
        "# Imprimir las predicciones para cada estudiante\n",
        "for i, prediccion in enumerate(predicciones):\n",
        "    print(f\"Estudiante {i+1}: {prediccion}\")"
      ],
      "metadata": {
        "id": "aVnWZIme5RCv",
        "colab": {
          "base_uri": "https://localhost:8080/"
        },
        "outputId": "39c7d941-8222-4bbb-c6b6-40605a03ca5c"
      },
      "execution_count": null,
      "outputs": [
        {
          "output_type": "stream",
          "name": "stdout",
          "text": [
            "Estudiante 1: 7.226495726495727\n",
            "Estudiante 2: 7.1581196581196584\n",
            "Estudiante 3: 7.1923076923076925\n",
            "Estudiante 4: 7.294871794871795\n",
            "Estudiante 5: 7.226495726495727\n",
            "Estudiante 6: 7.260683760683761\n",
            "Estudiante 7: 7.260683760683761\n",
            "Estudiante 8: 7.226495726495727\n",
            "Estudiante 9: 7.226495726495727\n",
            "Estudiante 10: 7.260683760683761\n",
            "Estudiante 11: 7.260683760683761\n",
            "Estudiante 12: 7.294871794871795\n",
            "Estudiante 13: 7.226495726495727\n",
            "Estudiante 14: 7.226495726495727\n",
            "Estudiante 15: 7.1923076923076925\n",
            "Estudiante 16: 7.260683760683761\n",
            "Estudiante 17: 7.226495726495727\n",
            "Estudiante 18: 7.1923076923076925\n",
            "Estudiante 19: 7.260683760683761\n",
            "Estudiante 20: 7.1581196581196584\n",
            "Estudiante 21: 7.226495726495727\n",
            "Estudiante 22: 7.1581196581196584\n",
            "Estudiante 23: 7.260683760683761\n",
            "Estudiante 24: 7.1923076923076925\n",
            "Estudiante 25: 7.260683760683761\n",
            "Estudiante 26: 7.294871794871795\n",
            "Estudiante 27: 7.294871794871795\n",
            "Estudiante 28: 7.226495726495727\n",
            "Estudiante 29: 7.1581196581196584\n",
            "Estudiante 30: 7.294871794871795\n"
          ]
        }
      ]
    },
    {
      "cell_type": "code",
      "source": [
        "import numpy as np\n",
        "from sklearn.linear_model import LinearRegression\n",
        "\n",
        "# Notas del año pasado (feature)\n",
        "notas_año_pasado = [7, 3, 8, 5, 7, 6, 6, 2, 3, 2, 2, 5, 7, 7, 8, 6, 7, 8, 6, 9, 7, 9, 6, 8, 4, 5, 5, 7, 9, 8]\n",
        "\n",
        "# Notas de hace dos años (feature)\n",
        "notas_hace_dos_años = [7, 9, 8, 9, 6, 9, 5, 5, 8, 7, 7, 7, 3, 9, 6, 9, 9, 7, 7, 7, 5, 6, 7, 8, 5, 5, 8, 9, 6, 5]\n",
        "\n",
        "# Creamos el modelo de regresión lineal\n",
        "modelo = LinearRegression()\n",
        "\n",
        "# Ajustamos el modelo utilizando 'notas_año_pasado' como predictor y 'notas_hace_dos_años' como variable objetivo\n",
        "X = np.array(notas_año_pasado).reshape(-1, 1)  # Requerido para sklearn\n",
        "modelo.fit(X, np.array(notas_hace_dos_años))\n",
        "\n",
        "# Predecimos las notas para todos los estudiantes a la vez usando 'notas_año_pasado'\n",
        "predicciones = modelo.predict(X)\n",
        "\n",
        "# Imprimimos las predicciones para cada estudiante\n",
        "for i, prediccion in enumerate(predicciones):\n",
        "    print(f\"Estudiante {i+1}: {prediccion}\")"
      ],
      "metadata": {
        "colab": {
          "base_uri": "https://localhost:8080/"
        },
        "id": "S9CmL0GX44Km",
        "outputId": "75aee707-ca73-40a3-dc48-679ad74b7774"
      },
      "execution_count": null,
      "outputs": [
        {
          "output_type": "stream",
          "name": "stdout",
          "text": [
            "Estudiante 1: 6.883211678832117\n",
            "Estudiante 2: 7.098018769551616\n",
            "Estudiante 3: 6.829509906152242\n",
            "Estudiante 4: 6.990615224191866\n",
            "Estudiante 5: 6.883211678832117\n",
            "Estudiante 6: 6.936913451511991\n",
            "Estudiante 7: 6.936913451511991\n",
            "Estudiante 8: 7.151720542231491\n",
            "Estudiante 9: 7.098018769551616\n",
            "Estudiante 10: 7.151720542231491\n",
            "Estudiante 11: 7.151720542231491\n",
            "Estudiante 12: 6.990615224191866\n",
            "Estudiante 13: 6.883211678832117\n",
            "Estudiante 14: 6.883211678832117\n",
            "Estudiante 15: 6.829509906152242\n",
            "Estudiante 16: 6.936913451511991\n",
            "Estudiante 17: 6.883211678832117\n",
            "Estudiante 18: 6.829509906152242\n",
            "Estudiante 19: 6.936913451511991\n",
            "Estudiante 20: 6.775808133472367\n",
            "Estudiante 21: 6.883211678832117\n",
            "Estudiante 22: 6.775808133472367\n",
            "Estudiante 23: 6.936913451511991\n",
            "Estudiante 24: 6.829509906152242\n",
            "Estudiante 25: 7.044316996871741\n",
            "Estudiante 26: 6.990615224191866\n",
            "Estudiante 27: 6.990615224191866\n",
            "Estudiante 28: 6.883211678832117\n",
            "Estudiante 29: 6.775808133472367\n",
            "Estudiante 30: 6.829509906152242\n"
          ]
        }
      ]
    },
    {
      "cell_type": "code",
      "source": [
        "import numpy as np\n",
        "from sklearn.linear_model import LinearRegression\n",
        "from sklearn.model_selection import cross_val_score, train_test_split\n",
        "from sklearn.metrics import mean_squared_error, r2_score\n",
        "import matplotlib.pyplot as plt\n",
        "\n",
        "# Notas del año pasado (feature)\n",
        "notas_año_pasado = [7, 9, 8, 5, 7, 6, 6, 7, 7, 6, 6, 5, 7, 7, 8, 6, 7, 8, 6, 9, 7, 9, 6, 8, 6, 5, 5, 7, 9, 5]\n",
        "\n",
        "# Notas de hace dos años (feature)\n",
        "notas_hace_dos_años = [7, 9, 8, 9, 6, 9, 5, 5, 8, 7, 7, 7, 9, 9, 6, 9, 9, 7, 7, 7, 5, 6, 7, 8, 5, 5, 8, 9, 6, 8]\n",
        "\n",
        "# Convertir las listas a arrays de NumPy\n",
        "X = np.array(notas_año_pasado).reshape(-1, 1)\n",
        "y = np.array(notas_hace_dos_años)\n",
        "\n",
        "# Crear el modelo de regresión lineal\n",
        "modelo = LinearRegression()\n",
        "\n",
        "# Realizar validación cruzada con 5 pliegues y MSE negativo como métrica\n",
        "scores = cross_val_score(modelo, X, y, cv=5, scoring='neg_mean_squared_error')\n",
        "\n",
        "# Imprimir los resultados de la validación cruzada\n",
        "print(\"Puntajes de validación cruzada (MSE negativo):\", scores)\n",
        "print(\"MSE promedio:\", -scores.mean())\n",
        "\n",
        "# Entrenar el modelo con todos los datos\n",
        "modelo.fit(X, y)\n",
        "\n",
        "# Predecir las notas para todos los estudiantes\n",
        "predicciones = modelo.predict(X)\n",
        "\n",
        "print()\n",
        "print()\n",
        "\n",
        "# Imprimimos las predicciones para cada estudiante\n",
        "for i, prediccion in enumerate(predicciones):\n",
        "    print(f\"Estudiante {i+1}: {prediccion}\")\n",
        "\n",
        "# Evaluar el modelo (opcional, ya que se usó validación cruzada)\n",
        "mse = mean_squared_error(y, predicciones)\n",
        "r2 = r2_score(y, predicciones)\n",
        "\n",
        "print()\n",
        "print()\n",
        "\n",
        "print(f\"Error cuadrático medio (MSE): {mse}\")\n",
        "print(f\"R-cuadrado (R2): {r2}\")\n",
        "\n",
        "# Graficar los resultados\n",
        "plt.scatter(X, y, color='blue', label='Datos reales')\n",
        "plt.plot(X, predicciones, color='red', linewidth=2, label='Regresión lineal')\n",
        "plt.xlabel('Notas del año pasado')\n",
        "plt.ylabel('Notas de hace dos años')\n",
        "plt.title('Regresión lineal de las notas de los estudiantes')\n",
        "plt.legend()\n",
        "plt.show()"
      ],
      "metadata": {
        "colab": {
          "base_uri": "https://localhost:8080/",
          "height": 914
        },
        "id": "uJLWelstDWT8",
        "outputId": "2e4c3615-459d-4b47-fdad-223b7167a3ad"
      },
      "execution_count": null,
      "outputs": [
        {
          "output_type": "stream",
          "name": "stdout",
          "text": [
            "Puntajes de validación cruzada (MSE negativo): [-2.26270303 -2.2478025  -2.83333333 -1.44524214 -2.78700713]\n",
            "MSE promedio: 2.315217628085535\n",
            "\n",
            "\n",
            "Estudiante 1: 7.226495726495727\n",
            "Estudiante 2: 7.1581196581196584\n",
            "Estudiante 3: 7.1923076923076925\n",
            "Estudiante 4: 7.294871794871795\n",
            "Estudiante 5: 7.226495726495727\n",
            "Estudiante 6: 7.260683760683761\n",
            "Estudiante 7: 7.260683760683761\n",
            "Estudiante 8: 7.226495726495727\n",
            "Estudiante 9: 7.226495726495727\n",
            "Estudiante 10: 7.260683760683761\n",
            "Estudiante 11: 7.260683760683761\n",
            "Estudiante 12: 7.294871794871795\n",
            "Estudiante 13: 7.226495726495727\n",
            "Estudiante 14: 7.226495726495727\n",
            "Estudiante 15: 7.1923076923076925\n",
            "Estudiante 16: 7.260683760683761\n",
            "Estudiante 17: 7.226495726495727\n",
            "Estudiante 18: 7.1923076923076925\n",
            "Estudiante 19: 7.260683760683761\n",
            "Estudiante 20: 7.1581196581196584\n",
            "Estudiante 21: 7.226495726495727\n",
            "Estudiante 22: 7.1581196581196584\n",
            "Estudiante 23: 7.260683760683761\n",
            "Estudiante 24: 7.1923076923076925\n",
            "Estudiante 25: 7.260683760683761\n",
            "Estudiante 26: 7.294871794871795\n",
            "Estudiante 27: 7.294871794871795\n",
            "Estudiante 28: 7.226495726495727\n",
            "Estudiante 29: 7.1581196581196584\n",
            "Estudiante 30: 7.294871794871795\n",
            "\n",
            "\n",
            "Error cuadrático medio (MSE): 1.9770655270655269\n",
            "R-cuadrado (R2): 0.0009214068731195901\n"
          ]
        },
        {
          "output_type": "display_data",
          "data": {
            "text/plain": [
              "<Figure size 640x480 with 1 Axes>"
            ],
            "image/png": "[encoded data removed]"
          },
          "metadata": {}
        }
      ]
    }
  ]
}
